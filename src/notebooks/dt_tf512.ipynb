{
 "cells": [
  {
   "cell_type": "markdown",
   "metadata": {
    "cell_id": "606164241ca94e2889fc28eaa5a5359b",
    "deepnote_cell_type": "text-cell-h3",
    "formattedRanges": [],
    "is_collapsed": false,
    "tags": []
   },
   "source": [
    "### Requirements"
   ]
  },
  {
   "cell_type": "code",
   "execution_count": 1,
   "metadata": {
    "cell_id": "18634d5b80304c3a99e885e80706ea25",
    "deepnote_cell_height": 966.171875,
    "deepnote_cell_type": "code",
    "deepnote_to_be_reexecuted": false,
    "execution_millis": 10982,
    "execution_start": 1653587130673,
    "source_hash": "6a815617",
    "tags": []
   },
   "outputs": [],
   "source": [
    "# base\n",
    "import sys\n",
    "import os\n",
    "#cleaning\n",
    "import re\n",
    "import unicodedata\n",
    "#manupulate numbers\n",
    "import numpy as np\n",
    "import pandas as pd\n",
    "import random\n",
    "#Graph\n",
    "import seaborn  as sns\n",
    "import matplotlib.pyplot as plt\n",
    "from datetime import date,datetime,timedelta\n",
    "#gcp\n",
    "sys.path.append('..')\n",
    "from settings import Settings\n",
    "settings = Settings()\n",
    "from clients.google import Gcp\n",
    "gcp = Gcp(settings.EMBBEDINGS_BUCKET)\n",
    "#modeling\n",
    "from sklearn.multiclass import OneVsOneClassifier, OneVsRestClassifier\n",
    "from sklearn.model_selection import train_test_split, GridSearchCV\n",
    "from sklearn.metrics import classification_report, confusion_matrix, accuracy_score\n",
    "#ensamble\n",
    "from sklearn.tree import DecisionTreeClassifier\n"
   ]
  },
  {
   "cell_type": "markdown",
   "metadata": {
    "cell_id": "0ff814cb249c430cac8837f97429216f",
    "deepnote_cell_type": "text-cell-h1",
    "formattedRanges": [],
    "is_collapsed": false,
    "tags": []
   },
   "source": [
    "# data"
   ]
  },
  {
   "cell_type": "code",
   "execution_count": 3,
   "metadata": {
    "cell_id": "cf86b9676fef47898d6faf2c4a6e1b71",
    "deepnote_cell_type": "code"
   },
   "outputs": [],
   "source": [
    "files = [\n",
    "    'usem/1697445298_embedded_reviews_train.npz',\n",
    "    'usem/1697445298_embedded_reviews_test.npz'\n",
    "    ]"
   ]
  },
  {
   "cell_type": "code",
   "execution_count": 6,
   "metadata": {
    "cell_id": "9eee689c679344cc9115996785892e3b",
    "deepnote_cell_type": "code"
   },
   "outputs": [],
   "source": [
    "df = gcp.read_np_from_gcs(files[0], allow_pickle=True)\n",
    "if df is not None and len(df) > 0:\n",
    "    df_train = (\n",
    "        pd.DataFrame({x: df[x] for x in df})\n",
    "        .rename(columns={\"index\": \"id\"})\n",
    "        .set_index(\"id\")\n",
    "    )\n",
    "df = gcp.read_np_from_gcs(files[1], allow_pickle=True)\n",
    "if df is not None and len(df) > 0:\n",
    "    df_test = (\n",
    "        pd.DataFrame({x: df[x] for x in df})\n",
    "        .rename(columns={\"index\": \"id\"})\n",
    "        .set_index(\"id\")\n",
    "    )\n",
    "os.remove(\"file.npz\")"
   ]
  },
  {
   "cell_type": "code",
   "execution_count": 7,
   "metadata": {
    "cell_id": "112a56cb95d84a8dad129825b58a5600",
    "deepnote_cell_type": "code"
   },
   "outputs": [
    {
     "data": {
      "text/plain": [
       "Index(['embedded_review', 'y'], dtype='object')"
      ]
     },
     "execution_count": 7,
     "metadata": {},
     "output_type": "execute_result"
    }
   ],
   "source": [
    "df_train.columns"
   ]
  },
  {
   "cell_type": "code",
   "execution_count": 8,
   "metadata": {
    "cell_id": "752870e3d14049bf98fca24e6cdb7590",
    "deepnote_cell_height": 509.6875,
    "deepnote_cell_type": "code",
    "deepnote_to_be_reexecuted": false,
    "execution_millis": 1851,
    "execution_start": 1653587141656,
    "owner_user_id": "17badf31-2eb1-484b-a4c6-42300e5a8eae",
    "source_hash": "8be2b58b",
    "tags": []
   },
   "outputs": [
    {
     "data": {
      "text/html": [
       "<div>\n",
       "<style scoped>\n",
       "    .dataframe tbody tr th:only-of-type {\n",
       "        vertical-align: middle;\n",
       "    }\n",
       "\n",
       "    .dataframe tbody tr th {\n",
       "        vertical-align: top;\n",
       "    }\n",
       "\n",
       "    .dataframe thead th {\n",
       "        text-align: right;\n",
       "    }\n",
       "</style>\n",
       "<table border=\"1\" class=\"dataframe\">\n",
       "  <thead>\n",
       "    <tr style=\"text-align: right;\">\n",
       "      <th></th>\n",
       "      <th>embedded_review</th>\n",
       "      <th>y</th>\n",
       "    </tr>\n",
       "    <tr>\n",
       "      <th>id</th>\n",
       "      <th></th>\n",
       "      <th></th>\n",
       "    </tr>\n",
       "  </thead>\n",
       "  <tbody>\n",
       "    <tr>\n",
       "      <th>270032</th>\n",
       "      <td>[0.051702406, 0.0063196365, -0.0019192067, 0.0...</td>\n",
       "      <td>[1.0, 0.0, 0.0, 0.0, 1.0, 0.0, 0.0, 0.0]</td>\n",
       "    </tr>\n",
       "    <tr>\n",
       "      <th>273058</th>\n",
       "      <td>[0.026936151, -0.07401035, -0.02367169, 0.0012...</td>\n",
       "      <td>[0.0, 0.0, 1.0, 0.0, 0.0, 0.0, 0.0, 0.0]</td>\n",
       "    </tr>\n",
       "    <tr>\n",
       "      <th>272643</th>\n",
       "      <td>[0.06126295, -0.005612696, 0.024638325, 0.0139...</td>\n",
       "      <td>[0.0, 1.0, 0.0, 0.0, 1.0, 0.0, 0.0, 0.0]</td>\n",
       "    </tr>\n",
       "    <tr>\n",
       "      <th>297102</th>\n",
       "      <td>[-0.0500299, -0.09700354, 0.01769823, -0.02234...</td>\n",
       "      <td>[0.0, 1.0, 0.0, 0.0, 1.0, 1.0, 0.0, 0.0]</td>\n",
       "    </tr>\n",
       "    <tr>\n",
       "      <th>299760</th>\n",
       "      <td>[0.04312534, -0.032369155, -0.023003675, 0.021...</td>\n",
       "      <td>[0.0, 0.0, 0.0, 0.0, 0.0, 1.0, 0.0, 0.0]</td>\n",
       "    </tr>\n",
       "    <tr>\n",
       "      <th>...</th>\n",
       "      <td>...</td>\n",
       "      <td>...</td>\n",
       "    </tr>\n",
       "    <tr>\n",
       "      <th>267064</th>\n",
       "      <td>[0.024140796, -0.016030194, -0.032259483, -0.0...</td>\n",
       "      <td>[0.0, 0.0, 1.0, 0.0, 0.0, 0.0, 0.0, 0.0]</td>\n",
       "    </tr>\n",
       "    <tr>\n",
       "      <th>304503</th>\n",
       "      <td>[-0.029617317, -0.04365659, 0.021056803, -0.05...</td>\n",
       "      <td>[0.0, 0.0, 0.0, 0.0, 0.0, 0.0, 0.0, 0.0]</td>\n",
       "    </tr>\n",
       "    <tr>\n",
       "      <th>297491</th>\n",
       "      <td>[0.061326973, 0.013675633, 0.009585054, -0.001...</td>\n",
       "      <td>[0.0, 0.0, 1.0, 0.0, 0.0, 0.0, 0.0, 0.0]</td>\n",
       "    </tr>\n",
       "    <tr>\n",
       "      <th>231808</th>\n",
       "      <td>[-0.002889963, 0.030072268, 0.08782837, -0.024...</td>\n",
       "      <td>[0.0, 0.0, 0.0, 0.0, 1.0, 0.0, 0.0, 0.0]</td>\n",
       "    </tr>\n",
       "    <tr>\n",
       "      <th>231786</th>\n",
       "      <td>[0.027740816, -0.058671523, 0.0065613682, 0.01...</td>\n",
       "      <td>[0.0, 0.0, 0.0, 0.0, 0.0, 0.0, 0.0, 0.0]</td>\n",
       "    </tr>\n",
       "  </tbody>\n",
       "</table>\n",
       "<p>5652 rows × 2 columns</p>\n",
       "</div>"
      ],
      "text/plain": [
       "                                          embedded_review  \\\n",
       "id                                                          \n",
       "270032  [0.051702406, 0.0063196365, -0.0019192067, 0.0...   \n",
       "273058  [0.026936151, -0.07401035, -0.02367169, 0.0012...   \n",
       "272643  [0.06126295, -0.005612696, 0.024638325, 0.0139...   \n",
       "297102  [-0.0500299, -0.09700354, 0.01769823, -0.02234...   \n",
       "299760  [0.04312534, -0.032369155, -0.023003675, 0.021...   \n",
       "...                                                   ...   \n",
       "267064  [0.024140796, -0.016030194, -0.032259483, -0.0...   \n",
       "304503  [-0.029617317, -0.04365659, 0.021056803, -0.05...   \n",
       "297491  [0.061326973, 0.013675633, 0.009585054, -0.001...   \n",
       "231808  [-0.002889963, 0.030072268, 0.08782837, -0.024...   \n",
       "231786  [0.027740816, -0.058671523, 0.0065613682, 0.01...   \n",
       "\n",
       "                                               y  \n",
       "id                                                \n",
       "270032  [1.0, 0.0, 0.0, 0.0, 1.0, 0.0, 0.0, 0.0]  \n",
       "273058  [0.0, 0.0, 1.0, 0.0, 0.0, 0.0, 0.0, 0.0]  \n",
       "272643  [0.0, 1.0, 0.0, 0.0, 1.0, 0.0, 0.0, 0.0]  \n",
       "297102  [0.0, 1.0, 0.0, 0.0, 1.0, 1.0, 0.0, 0.0]  \n",
       "299760  [0.0, 0.0, 0.0, 0.0, 0.0, 1.0, 0.0, 0.0]  \n",
       "...                                          ...  \n",
       "267064  [0.0, 0.0, 1.0, 0.0, 0.0, 0.0, 0.0, 0.0]  \n",
       "304503  [0.0, 0.0, 0.0, 0.0, 0.0, 0.0, 0.0, 0.0]  \n",
       "297491  [0.0, 0.0, 1.0, 0.0, 0.0, 0.0, 0.0, 0.0]  \n",
       "231808  [0.0, 0.0, 0.0, 0.0, 1.0, 0.0, 0.0, 0.0]  \n",
       "231786  [0.0, 0.0, 0.0, 0.0, 0.0, 0.0, 0.0, 0.0]  \n",
       "\n",
       "[5652 rows x 2 columns]"
      ]
     },
     "execution_count": 8,
     "metadata": {},
     "output_type": "execute_result"
    }
   ],
   "source": [
    "df_train"
   ]
  },
  {
   "cell_type": "code",
   "execution_count": 13,
   "metadata": {},
   "outputs": [
    {
     "data": {
      "text/plain": [
       "512"
      ]
     },
     "execution_count": 13,
     "metadata": {},
     "output_type": "execute_result"
    }
   ],
   "source": [
    "len(df_train.embedded_review.values[0])"
   ]
  },
  {
   "cell_type": "code",
   "execution_count": 16,
   "metadata": {},
   "outputs": [
    {
     "data": {
      "text/plain": [
       "8"
      ]
     },
     "execution_count": 16,
     "metadata": {},
     "output_type": "execute_result"
    }
   ],
   "source": [
    "len(df_train.y.values[0])"
   ]
  },
  {
   "cell_type": "code",
   "execution_count": 9,
   "metadata": {
    "cell_id": "faeccd46545a43968af80f9486659c28",
    "deepnote_cell_type": "code"
   },
   "outputs": [
    {
     "data": {
      "text/plain": [
       "Index(['embedded_review', 'y'], dtype='object')"
      ]
     },
     "execution_count": 9,
     "metadata": {},
     "output_type": "execute_result"
    }
   ],
   "source": [
    "df_test.columns"
   ]
  },
  {
   "cell_type": "code",
   "execution_count": 10,
   "metadata": {
    "cell_id": "6c9846cbcbdb4f71bacc83312d0463be",
    "deepnote_cell_type": "code"
   },
   "outputs": [
    {
     "data": {
      "text/html": [
       "<div>\n",
       "<style scoped>\n",
       "    .dataframe tbody tr th:only-of-type {\n",
       "        vertical-align: middle;\n",
       "    }\n",
       "\n",
       "    .dataframe tbody tr th {\n",
       "        vertical-align: top;\n",
       "    }\n",
       "\n",
       "    .dataframe thead th {\n",
       "        text-align: right;\n",
       "    }\n",
       "</style>\n",
       "<table border=\"1\" class=\"dataframe\">\n",
       "  <thead>\n",
       "    <tr style=\"text-align: right;\">\n",
       "      <th></th>\n",
       "      <th>embedded_review</th>\n",
       "      <th>y</th>\n",
       "    </tr>\n",
       "    <tr>\n",
       "      <th>id</th>\n",
       "      <th></th>\n",
       "      <th></th>\n",
       "    </tr>\n",
       "  </thead>\n",
       "  <tbody>\n",
       "    <tr>\n",
       "      <th>280807</th>\n",
       "      <td>[-0.019385519, 0.061420172, -0.034199018, 0.06...</td>\n",
       "      <td>[0.0, 1.0, 1.0, 0.0, 0.0, 0.0, 0.0, 0.0]</td>\n",
       "    </tr>\n",
       "    <tr>\n",
       "      <th>225426</th>\n",
       "      <td>[0.016546639, 0.04594232, 0.035827015, -0.0418...</td>\n",
       "      <td>[0.0, 0.0, 0.0, 0.0, 1.0, 0.0, 0.0, 0.0]</td>\n",
       "    </tr>\n",
       "    <tr>\n",
       "      <th>258292</th>\n",
       "      <td>[-0.062319446, 0.017953802, 0.0014271716, 0.02...</td>\n",
       "      <td>[0.0, 0.0, 0.0, 1.0, 1.0, 0.0, 1.0, 0.0]</td>\n",
       "    </tr>\n",
       "    <tr>\n",
       "      <th>307508</th>\n",
       "      <td>[0.021104338, -0.03740269, -0.04002929, -0.027...</td>\n",
       "      <td>[1.0, 0.0, 1.0, 0.0, 1.0, 0.0, 0.0, 0.0]</td>\n",
       "    </tr>\n",
       "    <tr>\n",
       "      <th>276805</th>\n",
       "      <td>[-0.030853122, -0.01589446, -0.005709037, 0.01...</td>\n",
       "      <td>[0.0, 0.0, 0.0, 0.0, 0.0, 0.0, 0.0, 1.0]</td>\n",
       "    </tr>\n",
       "    <tr>\n",
       "      <th>...</th>\n",
       "      <td>...</td>\n",
       "      <td>...</td>\n",
       "    </tr>\n",
       "    <tr>\n",
       "      <th>224886</th>\n",
       "      <td>[-0.013254025, -0.008982382, -0.014643711, -0....</td>\n",
       "      <td>[0.0, 0.0, 0.0, 0.0, 0.0, 0.0, 0.0, 1.0]</td>\n",
       "    </tr>\n",
       "    <tr>\n",
       "      <th>261886</th>\n",
       "      <td>[0.0005017076, -0.038983814, -0.026330085, 0.0...</td>\n",
       "      <td>[0.0, 1.0, 0.0, 0.0, 0.0, 0.0, 0.0, 0.0]</td>\n",
       "    </tr>\n",
       "    <tr>\n",
       "      <th>296273</th>\n",
       "      <td>[0.045025535, -0.0063450993, -0.010803862, 0.0...</td>\n",
       "      <td>[0.0, 1.0, 0.0, 0.0, 0.0, 0.0, 0.0, 0.0]</td>\n",
       "    </tr>\n",
       "    <tr>\n",
       "      <th>246656</th>\n",
       "      <td>[0.032371625, -0.01723886, 0.03687848, -0.0076...</td>\n",
       "      <td>[0.0, 1.0, 0.0, 1.0, 1.0, 0.0, 1.0, 0.0]</td>\n",
       "    </tr>\n",
       "    <tr>\n",
       "      <th>278725</th>\n",
       "      <td>[0.015647886, 0.000527478, -0.019028462, -0.00...</td>\n",
       "      <td>[0.0, 1.0, 1.0, 0.0, 0.0, 0.0, 0.0, 0.0]</td>\n",
       "    </tr>\n",
       "  </tbody>\n",
       "</table>\n",
       "<p>2423 rows × 2 columns</p>\n",
       "</div>"
      ],
      "text/plain": [
       "                                          embedded_review  \\\n",
       "id                                                          \n",
       "280807  [-0.019385519, 0.061420172, -0.034199018, 0.06...   \n",
       "225426  [0.016546639, 0.04594232, 0.035827015, -0.0418...   \n",
       "258292  [-0.062319446, 0.017953802, 0.0014271716, 0.02...   \n",
       "307508  [0.021104338, -0.03740269, -0.04002929, -0.027...   \n",
       "276805  [-0.030853122, -0.01589446, -0.005709037, 0.01...   \n",
       "...                                                   ...   \n",
       "224886  [-0.013254025, -0.008982382, -0.014643711, -0....   \n",
       "261886  [0.0005017076, -0.038983814, -0.026330085, 0.0...   \n",
       "296273  [0.045025535, -0.0063450993, -0.010803862, 0.0...   \n",
       "246656  [0.032371625, -0.01723886, 0.03687848, -0.0076...   \n",
       "278725  [0.015647886, 0.000527478, -0.019028462, -0.00...   \n",
       "\n",
       "                                               y  \n",
       "id                                                \n",
       "280807  [0.0, 1.0, 1.0, 0.0, 0.0, 0.0, 0.0, 0.0]  \n",
       "225426  [0.0, 0.0, 0.0, 0.0, 1.0, 0.0, 0.0, 0.0]  \n",
       "258292  [0.0, 0.0, 0.0, 1.0, 1.0, 0.0, 1.0, 0.0]  \n",
       "307508  [1.0, 0.0, 1.0, 0.0, 1.0, 0.0, 0.0, 0.0]  \n",
       "276805  [0.0, 0.0, 0.0, 0.0, 0.0, 0.0, 0.0, 1.0]  \n",
       "...                                          ...  \n",
       "224886  [0.0, 0.0, 0.0, 0.0, 0.0, 0.0, 0.0, 1.0]  \n",
       "261886  [0.0, 1.0, 0.0, 0.0, 0.0, 0.0, 0.0, 0.0]  \n",
       "296273  [0.0, 1.0, 0.0, 0.0, 0.0, 0.0, 0.0, 0.0]  \n",
       "246656  [0.0, 1.0, 0.0, 1.0, 1.0, 0.0, 1.0, 0.0]  \n",
       "278725  [0.0, 1.0, 1.0, 0.0, 0.0, 0.0, 0.0, 0.0]  \n",
       "\n",
       "[2423 rows x 2 columns]"
      ]
     },
     "execution_count": 10,
     "metadata": {},
     "output_type": "execute_result"
    }
   ],
   "source": [
    "df_test"
   ]
  },
  {
   "cell_type": "code",
   "execution_count": 15,
   "metadata": {},
   "outputs": [
    {
     "data": {
      "text/plain": [
       "512"
      ]
     },
     "execution_count": 15,
     "metadata": {},
     "output_type": "execute_result"
    }
   ],
   "source": [
    "len(df_test.embedded_review.values[0])"
   ]
  },
  {
   "cell_type": "code",
   "execution_count": 17,
   "metadata": {},
   "outputs": [
    {
     "data": {
      "text/plain": [
       "8"
      ]
     },
     "execution_count": 17,
     "metadata": {},
     "output_type": "execute_result"
    }
   ],
   "source": [
    "len(df_test.y.values[0])"
   ]
  },
  {
   "cell_type": "markdown",
   "metadata": {
    "cell_id": "d93896b8cba14727b3d87c288f288f92",
    "deepnote_cell_type": "text-cell-h1",
    "formattedRanges": [],
    "is_collapsed": false,
    "tags": []
   },
   "source": [
    "# Sampling"
   ]
  },
  {
   "cell_type": "code",
   "execution_count": 11,
   "metadata": {
    "cell_id": "d70acdf1b6304d46a6fb65ddc858050a",
    "deepnote_cell_height": 308.953125,
    "deepnote_cell_type": "code",
    "deepnote_output_heights": [
     193.953125
    ],
    "deepnote_to_be_reexecuted": false,
    "execution_millis": 3,
    "execution_start": 1653587296572,
    "source_hash": "2b6bd9fd",
    "tags": []
   },
   "outputs": [],
   "source": [
    "X_train = np.array(list(df_train['embedded_review']))\n",
    "X_test = np.array(list(df_test['embedded_review']))\n",
    "y_train = np.array(list(df_train['y']))\n",
    "y_test = np.array(list(df_test['y']))"
   ]
  },
  {
   "cell_type": "code",
   "execution_count": 21,
   "metadata": {},
   "outputs": [],
   "source": [
    "X_test = np.array(list(df_train['embedded_review']))\n",
    "X_train = np.array(list(df_test['embedded_review']))\n",
    "y_test = np.array(list(df_train['y']))\n",
    "y_train = np.array(list(df_test['y']))"
   ]
  },
  {
   "cell_type": "markdown",
   "metadata": {
    "cell_id": "387e51a98c614abe9d3a843667d89633",
    "deepnote_cell_type": "text-cell-h1",
    "formattedRanges": [],
    "is_collapsed": false,
    "tags": []
   },
   "source": [
    "# Modeling"
   ]
  },
  {
   "cell_type": "markdown",
   "metadata": {
    "cell_id": "f0e5f426f5f74687862848a843ee97ad",
    "deepnote_cell_type": "text-cell-h2",
    "formattedRanges": [],
    "is_collapsed": false,
    "tags": []
   },
   "source": [
    "## Decision tree"
   ]
  },
  {
   "cell_type": "code",
   "execution_count": 24,
   "metadata": {
    "cell_id": "b1e2d9121a6044cc9fa5d6901f16fa3f",
    "deepnote_cell_height": 153,
    "deepnote_cell_type": "code",
    "deepnote_to_be_reexecuted": false,
    "execution_millis": 2,
    "execution_start": 1653587296730,
    "source_hash": "7fc7ce7c",
    "tags": []
   },
   "outputs": [],
   "source": [
    "dt=DecisionTreeClassifier(random_state=2021,\n",
    "                            class_weight='balanced')\n",
    "#multilabel_dt = OneVsOneClassifier(dt)\n",
    "multilabel_dt = OneVsRestClassifier(dt)"
   ]
  },
  {
   "cell_type": "code",
   "execution_count": 25,
   "metadata": {
    "cell_id": "db83aa32a8874f2f98a664f7a78c0dbc",
    "deepnote_cell_height": 207,
    "deepnote_cell_type": "code",
    "deepnote_to_be_reexecuted": false,
    "execution_millis": 7,
    "execution_start": 1653587296734,
    "source_hash": "768aa9be",
    "tags": []
   },
   "outputs": [],
   "source": [
    "param_grid={\n",
    "        'estimator__max_features':  ['sqrt', 'log2'],\n",
    "        'estimator__max_depth' : range(5,25,5),\n",
    "        'estimator__min_samples_leaf': range(5,30,5),\n",
    "        'estimator__min_samples_split': range(5,26,5),\n",
    "        'estimator__criterion' :['gini', 'entropy'],\n",
    "       'estimator__ccp_alpha' : [0,0.001,0.002,0.003,0.004,0.005]\n",
    "    }"
   ]
  },
  {
   "cell_type": "code",
   "execution_count": null,
   "metadata": {
    "cell_id": "29fa7c5351084da58053094c6568027c",
    "deepnote_cell_height": 328.140625,
    "deepnote_cell_type": "code",
    "deepnote_output_heights": [
     213.140625
    ],
    "deepnote_to_be_reexecuted": false,
    "execution_millis": 110197658,
    "execution_start": 1653587296743,
    "source_hash": "2a257e18",
    "tags": []
   },
   "outputs": [],
   "source": [
    "%%time\n",
    "CV_dtc = GridSearchCV(\n",
    "    estimator=multilabel_dt, \n",
    "    param_grid=param_grid, \n",
    "    scoring='f1', \n",
    "    cv= 5\n",
    ")\n",
    "CV_dtc.fit(X_train, y_train)"
   ]
  },
  {
   "cell_type": "code",
   "execution_count": null,
   "metadata": {
    "cell_id": "3cb6e28de26f452aaaa783cfe1f559ef",
    "deepnote_cell_height": 135.890625,
    "deepnote_cell_type": "code",
    "deepnote_to_be_reexecuted": false,
    "execution_millis": 5,
    "execution_start": 1653697494398,
    "source_hash": "29a7333d",
    "tags": []
   },
   "outputs": [
    {
     "name": "stdout",
     "output_type": "stream",
     "text": [
      "Best: 0.688467 using {'estimator__criterion': 'entropy', 'estimator__max_depth': 15, 'estimator__max_features': 'sqrt', 'estimator__min_samples_leaf': 0.001, 'estimator__min_samples_split': 20, 'estimator__n_estimators': 150}\n",
      "Best: 0.689080 using {'estimator__criterion': 'entropy', 'estimator__max_depth': 15, 'estimator__max_features': 'sqrt', 'estimator__min_samples_leaf': 0.001, 'estimator__min_samples_split': 15, 'estimator__n_estimators': 125}\n"
     ]
    }
   ],
   "source": [
    "print(\"Best: %f using %s\" % (CV_dtc.best_score_, CV_dtc.best_params_))"
   ]
  },
  {
   "cell_type": "code",
   "execution_count": null,
   "metadata": {
    "cell_id": "60d598abff204764b66c18c39a864eba",
    "deepnote_cell_height": 149.390625,
    "deepnote_cell_type": "code",
    "deepnote_to_be_reexecuted": false,
    "execution_millis": 889,
    "execution_start": 1653697494399,
    "source_hash": "e7830276",
    "tags": []
   },
   "outputs": [
    {
     "name": "stdout",
     "output_type": "stream",
     "text": [
      "Accuracy for Random Forest on CV data:  0.6982472761724301\n",
      "Accuracy for Random Forest on CV data:  0.6892468024632875\n"
     ]
    }
   ],
   "source": [
    "y_hat = CV_rfc.predict(X_test)\n",
    "print(\"Accuracy for Random Forest on CV data: \",accuracy_score(y_test,y_hat))"
   ]
  },
  {
   "cell_type": "code",
   "execution_count": null,
   "metadata": {
    "cell_id": "71a786a7d6f94b8b801e58b8eb0a084f",
    "deepnote_cell_height": 615.296875,
    "deepnote_cell_type": "code",
    "deepnote_to_be_reexecuted": false,
    "execution_millis": 12,
    "execution_start": 1653697495290,
    "source_hash": "d93d662",
    "tags": []
   },
   "outputs": [
    {
     "name": "stdout",
     "output_type": "stream",
     "text": [
      "                   0    1   2    3    4    5    6    7    8  Total_Real\n",
      "0                 33    0   2    3    0    7    0    5    1          51\n",
      "1                  0   86   3    3    4   13    0    1    7         117\n",
      "2                  0    2  34   11   10   11    1    9   12          90\n",
      "3                  3    0   3  169   14   15    5   17   30         256\n",
      "4                  1    8   2    7  161   42    2   13   34         270\n",
      "5                  3    8   7    7   33  124    2   43   33         260\n",
      "6                  0    2   0    0   14   20   93   15   12         156\n",
      "7                  1    0   4    4    9   12    0  472   11         513\n",
      "8                  0    7   1   11   22   33    4   18  302         398\n",
      "Total_Predicción  41  113  56  215  267  277  107  593  442        2111\n",
      "                   0    1   2    3    4    5    6    7    8  Total_Real\n",
      "0                 32    0   1    7    1    3    0    6    1          51\n",
      "1                  0   90   1    1    8   16    0    2    5         123\n",
      "2                  0    2  31   12   12    8    1   16    9          91\n",
      "3                  3    0   3  159   15   13    4   10   20         227\n",
      "4                  0    4   1    8  152   46    5   14   41         271\n",
      "5                  4    9   3   10   29  124    2   48   45         274\n",
      "6                  0    2   0    1    8   21   87    6   16         141\n",
      "7                  0    3   5    5   12   22    0  467    9         523\n",
      "8                  0    7   2   18   26   29    2   13  313         410\n",
      "Total_Predicción  39  117  47  221  263  282  101  582  459        2111\n"
     ]
    }
   ],
   "source": [
    "values = list(df['Area Estandarizada'].unique())\n",
    "CM = pd.DataFrame(confusion_matrix(y_test, y_hat), columns=values)\n",
    "CM['Total_Real'] = CM.sum(axis=1)\n",
    "CM = CM.append(CM.sum(axis=0), ignore_index=True)\n",
    "CM.index = list(df['Area Estandarizada'].unique()) + ['Total_Predicción']\n",
    "print(CM)"
   ]
  },
  {
   "cell_type": "code",
   "execution_count": null,
   "metadata": {
    "cell_id": "b6a8ac2e6ec5479cb499e87bb31a3de5",
    "deepnote_cell_height": 768,
    "deepnote_cell_type": "code",
    "deepnote_output_heights": [
     null,
     457
    ],
    "deepnote_to_be_reexecuted": false,
    "execution_millis": 913,
    "execution_start": 1653715166790,
    "source_hash": "b2c09587",
    "tags": []
   },
   "outputs": [
    {
     "data": {
      "text/plain": [
       "Text(0.5, 1.0, 'Confusion Matrix Ariel v2')"
      ]
     },
     "execution_count": 24,
     "metadata": {},
     "output_type": "execute_result"
    },
    {
     "data": {
      "image/png": "[encoded data removed]",
      "text/plain": [
       "<Figure size 576x576 with 2 Axes>"
      ]
     },
     "metadata": {
      "image/png": {
       "height": 455,
       "width": 534
      },
      "needs_background": "light"
     },
     "output_type": "display_data"
    }
   ],
   "source": [
    "# Draw the heatmap with the mask and correct aspect ratio\n",
    "#sns.set(font_scale=2)\n",
    "#plt.style.use(\"dark_background\")\n",
    "plt.figure(figsize= (8,8))\n",
    "sns.heatmap(CM, cmap=\"Blues\",#\"RdYlBu\",#\"YlOrBr\", \n",
    "    annot=True, square=True,\n",
    "    #vmin=-1, vmax=1,\n",
    "    #fmt=\"+.1f\"\n",
    "    fmt=\".1f\")\n",
    "plt.title(\"Confusion Matrix Ariel v2\")"
   ]
  },
  {
   "cell_type": "code",
   "execution_count": null,
   "metadata": {
    "cell_id": "f26e05317f934052bef270ae1ff777a4",
    "deepnote_cell_height": 407.125,
    "deepnote_cell_type": "code",
    "deepnote_to_be_reexecuted": false,
    "execution_millis": 2,
    "execution_start": 1653715198733,
    "source_hash": "8c24c7ec",
    "tags": []
   },
   "outputs": [
    {
     "name": "stdout",
     "output_type": "stream",
     "text": [
      "              precision    recall  f1-score   support\n",
      "\n",
      "           0       0.82      0.63      0.71        51\n",
      "           1       0.77      0.73      0.75       123\n",
      "           2       0.66      0.34      0.45        91\n",
      "           3       0.72      0.70      0.71       227\n",
      "           4       0.58      0.56      0.57       271\n",
      "           5       0.44      0.45      0.45       274\n",
      "           6       0.86      0.62      0.72       141\n",
      "           7       0.80      0.89      0.85       523\n",
      "           8       0.68      0.76      0.72       410\n",
      "\n",
      "    accuracy                           0.69      2111\n",
      "   macro avg       0.70      0.63      0.66      2111\n",
      "weighted avg       0.69      0.69      0.68      2111\n",
      "\n"
     ]
    }
   ],
   "source": [
    "print(classification_report(y_test, y_hat))"
   ]
  },
  {
   "cell_type": "markdown",
   "metadata": {
    "cell_id": "22bb0ce4d58c4e1b818c3283eefd3955",
    "deepnote_cell_type": "text-cell-h1",
    "formattedRanges": [],
    "is_collapsed": false,
    "tags": []
   },
   "source": [
    "# report"
   ]
  },
  {
   "cell_type": "code",
   "execution_count": null,
   "metadata": {
    "cell_id": "75a533d88301417c80aeb2f224e70ae6",
    "deepnote_cell_height": 259.078125,
    "deepnote_cell_type": "code",
    "deepnote_to_be_reexecuted": false,
    "execution_millis": 34,
    "execution_start": 1653715331860,
    "source_hash": "cca5c290",
    "tags": []
   },
   "outputs": [
    {
     "name": "stdout",
     "output_type": "stream",
     "text": [
      "@Channel :monkey_face: Ariel training update 2022-05-28 \n",
      " the accuracy is about 0.6892468024632875 \n",
      " :robot_face: [monkey_filter_history]\n"
     ]
    }
   ],
   "source": [
    "content = '@Channel :monkey_face: Ariel training update {0} \\n \\\n",
    "the accuracy is about {1} \\n \\\n",
    ":robot_face: [monkey_filter_history]'.format(\n",
    "datetime.now().strftime(\"%Y-%m-%d\"),#0\n",
    "accuracy_score(y_test,y_hat)\n",
    ")\n",
    "print(content)"
   ]
  },
  {
   "cell_type": "code",
   "execution_count": null,
   "metadata": {
    "cell_id": "63cda5a28efc47f7a98277258dd298ae",
    "deepnote_cell_height": 117,
    "deepnote_cell_type": "code",
    "deepnote_to_be_reexecuted": false,
    "execution_millis": 6,
    "execution_start": 1653715337276,
    "source_hash": "73896bd9",
    "tags": []
   },
   "outputs": [],
   "source": [
    "from utils import send2slack\n",
    "if accuracy_score(y_test,y_hat)>0.7:\n",
    "    send2slack(content)"
   ]
  },
  {
   "cell_type": "markdown",
   "metadata": {
    "created_in_deepnote_cell": true,
    "deepnote_cell_type": "markdown"
   },
   "source": [
    "<a style='text-decoration:none;line-height:16px;display:flex;color:#5B5B62;padding:10px;justify-content:end;' href='https://deepnote.com?utm_source=created-in-deepnote-cell&projectId=bc2cb277-c3fd-470b-bd8b-89f9a40be78d' target=\"_blank\">\n",
    "<img alt='Created in deepnote.com' style='display:inline;max-height:16px;margin:0px;margin-right:7.5px;' src='data:image/svg+xml;base64,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' > </img>\n",
    "Created in <span style='font-weight:600;margin-left:4px;'>Deepnote</span></a>"
   ]
  }
 ],
 "metadata": {
  "deepnote": {
   "is_reactive": false
  },
  "deepnote_execution_queue": [],
  "deepnote_notebook_id": "489c66c182bc46f1b7559f4dbb030835",
  "kernelspec": {
   "display_name": "Python 3 (ipykernel)",
   "language": "python",
   "name": "python3"
  },
  "language_info": {
   "codemirror_mode": {
    "name": "ipython",
    "version": 3
   },
   "file_extension": ".py",
   "mimetype": "text/x-python",
   "name": "python",
   "nbconvert_exporter": "python",
   "pygments_lexer": "ipython3",
   "version": "3.9.6"
  }
 },
 "nbformat": 4,
 "nbformat_minor": 4
}
